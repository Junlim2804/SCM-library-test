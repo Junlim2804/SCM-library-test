{
 "cells": [
  {
   "cell_type": "code",
   "execution_count": 12,
   "metadata": {},
   "outputs": [],
   "source": [
    "import pandas as pd \n",
    "import matplotlib\n",
    "\n",
    "%matplotlib inline\n"
   ]
  },
  {
   "cell_type": "code",
   "execution_count": 13,
   "metadata": {},
   "outputs": [],
   "source": [
    "def parser(x):\n",
    "    return pd.datetime.strptime(x,'%Y-%m-%d')\n",
    " \n",
    "train_df = pd.read_csv('train.csv', header=0,usecols=['date','store','item','sales'])\n",
    "train_df = train_df[train_df['store']==1]\n",
    "train_df = train_df[train_df['item']==1]\n",
    "\n",
    "\n",
    "train_df.head()\n",
    "\n",
    "df=train_df.copy()"
   ]
  },
  {
   "cell_type": "code",
   "execution_count": 14,
   "metadata": {},
   "outputs": [],
   "source": [
    "df['date'].min(), df['date'].max()\n",
    "df['date'] = pd.to_datetime(df['date'])"
   ]
  },
  {
   "cell_type": "code",
   "execution_count": 15,
   "metadata": {},
   "outputs": [
    {
     "data": {
      "text/html": [
       "<div>\n",
       "<style scoped>\n",
       "    .dataframe tbody tr th:only-of-type {\n",
       "        vertical-align: middle;\n",
       "    }\n",
       "\n",
       "    .dataframe tbody tr th {\n",
       "        vertical-align: top;\n",
       "    }\n",
       "\n",
       "    .dataframe thead th {\n",
       "        text-align: right;\n",
       "    }\n",
       "</style>\n",
       "<table border=\"1\" class=\"dataframe\">\n",
       "  <thead>\n",
       "    <tr style=\"text-align: right;\">\n",
       "      <th></th>\n",
       "      <th>date</th>\n",
       "      <th>sales</th>\n",
       "    </tr>\n",
       "  </thead>\n",
       "  <tbody>\n",
       "    <tr>\n",
       "      <th>0</th>\n",
       "      <td>2013-01-01</td>\n",
       "      <td>13</td>\n",
       "    </tr>\n",
       "    <tr>\n",
       "      <th>1</th>\n",
       "      <td>2013-01-02</td>\n",
       "      <td>11</td>\n",
       "    </tr>\n",
       "    <tr>\n",
       "      <th>2</th>\n",
       "      <td>2013-01-03</td>\n",
       "      <td>14</td>\n",
       "    </tr>\n",
       "    <tr>\n",
       "      <th>3</th>\n",
       "      <td>2013-01-04</td>\n",
       "      <td>13</td>\n",
       "    </tr>\n",
       "    <tr>\n",
       "      <th>4</th>\n",
       "      <td>2013-01-05</td>\n",
       "      <td>10</td>\n",
       "    </tr>\n",
       "  </tbody>\n",
       "</table>\n",
       "</div>"
      ],
      "text/plain": [
       "        date  sales\n",
       "0 2013-01-01     13\n",
       "1 2013-01-02     11\n",
       "2 2013-01-03     14\n",
       "3 2013-01-04     13\n",
       "4 2013-01-05     10"
      ]
     },
     "execution_count": 15,
     "metadata": {},
     "output_type": "execute_result"
    }
   ],
   "source": [
    "df = df.groupby('date')['sales'].sum().reset_index()\n",
    "df.head()"
   ]
  },
  {
   "cell_type": "code",
   "execution_count": 16,
   "metadata": {},
   "outputs": [],
   "source": [
    "df=df.set_index('date')\n",
    "y=df"
   ]
  },
  {
   "cell_type": "code",
   "execution_count": 17,
   "metadata": {},
   "outputs": [],
   "source": [
    "y = df['sales'].resample('MS').mean()"
   ]
  },
  {
   "cell_type": "code",
   "execution_count": 18,
   "metadata": {},
   "outputs": [
    {
     "data": {
      "text/plain": [
       "date\n",
       "2013-01-01    10.580645\n",
       "2013-02-01    11.500000\n",
       "2013-03-01    15.387097\n",
       "2013-04-01    17.400000\n",
       "2013-05-01    17.129032\n",
       "2013-06-01    20.900000\n",
       "2013-07-01    21.322581\n",
       "2013-08-01    19.161290\n",
       "2013-09-01    17.300000\n",
       "2013-10-01    15.612903\n",
       "2013-11-01    19.066667\n",
       "2013-12-01    12.516129\n",
       "2014-01-01    14.032258\n",
       "2014-02-01    14.464286\n",
       "2014-03-01    17.709677\n",
       "2014-04-01    19.100000\n",
       "2014-05-01    21.000000\n",
       "2014-06-01    23.666667\n",
       "2014-07-01    24.064516\n",
       "2014-08-01    21.645161\n",
       "2014-09-01    18.866667\n",
       "2014-10-01    17.903226\n",
       "2014-11-01    20.633333\n",
       "2014-12-01    13.193548\n",
       "2015-01-01    13.806452\n",
       "2015-02-01    14.250000\n",
       "2015-03-01    17.806452\n",
       "2015-04-01    21.733333\n",
       "2015-05-01    22.935484\n",
       "2015-06-01    24.933333\n",
       "2015-07-01    27.161290\n",
       "2015-08-01    22.774194\n",
       "2015-09-01    22.600000\n",
       "2015-10-01    20.870968\n",
       "2015-11-01    22.800000\n",
       "2015-12-01    14.838710\n",
       "2016-01-01    14.483871\n",
       "2016-02-01    15.517241\n",
       "2016-03-01    19.000000\n",
       "2016-04-01    23.133333\n",
       "2016-05-01    25.225806\n",
       "2016-06-01    26.333333\n",
       "2016-07-01    29.129032\n",
       "2016-08-01    23.451613\n",
       "2016-09-01    23.633333\n",
       "2016-10-01    22.548387\n",
       "2016-11-01    22.066667\n",
       "2016-12-01    16.000000\n",
       "2017-01-01    15.645161\n",
       "2017-02-01    17.392857\n",
       "2017-03-01    18.096774\n",
       "2017-04-01    22.566667\n",
       "2017-05-01    24.935484\n",
       "2017-06-01    28.333333\n",
       "2017-07-01    28.161290\n",
       "2017-08-01    25.612903\n",
       "2017-09-01    24.533333\n",
       "2017-10-01    21.290323\n",
       "2017-11-01    22.266667\n",
       "2017-12-01    17.193548\n",
       "Freq: MS, Name: sales, dtype: float64"
      ]
     },
     "execution_count": 18,
     "metadata": {},
     "output_type": "execute_result"
    }
   ],
   "source": [
    "y"
   ]
  },
  {
   "cell_type": "code",
   "execution_count": 19,
   "metadata": {},
   "outputs": [],
   "source": [
    "train=y[0:-12]\n",
    "valid=y[-12:]"
   ]
  },
  {
   "cell_type": "code",
   "execution_count": 20,
   "metadata": {
    "scrolled": true
   },
   "outputs": [
    {
     "name": "stdout",
     "output_type": "stream",
     "text": [
      "Fit ARIMA: order=(3, 1, 3) seasonal_order=(1, 1, 5, 12); AIC=nan, BIC=nan, Fit time=nan seconds\n",
      "Fit ARIMA: order=(0, 1, 0) seasonal_order=(0, 1, 0, 12); AIC=114.525, BIC=117.636, Fit time=0.015 seconds\n",
      "Fit ARIMA: order=(1, 1, 0) seasonal_order=(1, 1, 0, 12); AIC=108.746, BIC=114.968, Fit time=0.157 seconds\n",
      "Fit ARIMA: order=(0, 1, 1) seasonal_order=(0, 1, 1, 12); AIC=nan, BIC=nan, Fit time=nan seconds\n",
      "Fit ARIMA: order=(1, 1, 0) seasonal_order=(0, 1, 0, 12); AIC=107.289, BIC=111.955, Fit time=0.044 seconds\n",
      "Fit ARIMA: order=(1, 1, 0) seasonal_order=(0, 1, 1, 12); AIC=nan, BIC=nan, Fit time=nan seconds\n",
      "Fit ARIMA: order=(1, 1, 0) seasonal_order=(1, 1, 1, 12); AIC=nan, BIC=nan, Fit time=nan seconds\n",
      "Fit ARIMA: order=(2, 1, 0) seasonal_order=(0, 1, 0, 12); AIC=108.631, BIC=114.852, Fit time=0.052 seconds\n",
      "Fit ARIMA: order=(1, 1, 1) seasonal_order=(0, 1, 0, 12); AIC=108.637, BIC=114.858, Fit time=0.091 seconds\n",
      "Fit ARIMA: order=(2, 1, 1) seasonal_order=(0, 1, 0, 12); AIC=107.426, BIC=115.203, Fit time=0.184 seconds\n",
      "Total fit time: 0.563 seconds\n"
     ]
    }
   ],
   "source": [
    "from pmdarima.arima import auto_arima\n",
    "import matplotlib.pyplot as plt\n",
    "\n",
    "model = auto_arima(train, trace=True, start_p=3, start_q=3, start_P=1, start_Q=5,\n",
    "                     max_p=7, max_q=7, max_P=7, max_order=20,max_Q=6,D=1,d=1, m=12,seasonal=True,\n",
    "                     stepwise=True, error_action='ignore', suppress_warnings=True)\n",
    "model.fit(train)\n",
    "\n",
    "forecast = model.predict(n_periods=12)\n",
    "forecast = pd.DataFrame(forecast,index = valid.index,columns=['Prediction'])\n",
    "\n",
    "#plot the predictions for validation set\n"
   ]
  },
  {
   "cell_type": "code",
   "execution_count": 21,
   "metadata": {},
   "outputs": [
    {
     "data": {
      "image/png": "[encoded data removed]",
      "text/plain": [
       "<Figure size 432x288 with 1 Axes>"
      ]
     },
     "metadata": {
      "needs_background": "light"
     },
     "output_type": "display_data"
    }
   ],
   "source": [
    "plt.plot(valid, label='Valid')\n",
    "plt.plot(forecast, label='Prediction')\n",
    "plt.show()"
   ]
  },
  {
   "cell_type": "code",
   "execution_count": 22,
   "metadata": {},
   "outputs": [
    {
     "data": {
      "text/html": [
       "<table class=\"simpletable\">\n",
       "<caption>Statespace Model Results</caption>\n",
       "<tr>\n",
       "  <th>Dep. Variable:</th>                  <td>y</td>               <th>  No. Observations:  </th>   <td>48</td>   \n",
       "</tr>\n",
       "<tr>\n",
       "  <th>Model:</th>           <td>SARIMAX(1, 1, 0)x(0, 1, 0, 12)</td> <th>  Log Likelihood     </th> <td>-50.644</td>\n",
       "</tr>\n",
       "<tr>\n",
       "  <th>Date:</th>                   <td>Sat, 24 Aug 2019</td>        <th>  AIC                </th> <td>107.289</td>\n",
       "</tr>\n",
       "<tr>\n",
       "  <th>Time:</th>                       <td>12:52:03</td>            <th>  BIC                </th> <td>111.955</td>\n",
       "</tr>\n",
       "<tr>\n",
       "  <th>Sample:</th>                         <td>0</td>               <th>  HQIC               </th> <td>108.899</td>\n",
       "</tr>\n",
       "<tr>\n",
       "  <th></th>                              <td> - 48</td>             <th>                     </th>    <td> </td>   \n",
       "</tr>\n",
       "<tr>\n",
       "  <th>Covariance Type:</th>               <td>opg</td>              <th>                     </th>    <td> </td>   \n",
       "</tr>\n",
       "</table>\n",
       "<table class=\"simpletable\">\n",
       "<tr>\n",
       "      <td></td>         <th>coef</th>     <th>std err</th>      <th>z</th>      <th>P>|z|</th>  <th>[0.025</th>    <th>0.975]</th>  \n",
       "</tr>\n",
       "<tr>\n",
       "  <th>intercept</th> <td>   -0.1200</td> <td>    0.196</td> <td>   -0.611</td> <td> 0.541</td> <td>   -0.505</td> <td>    0.265</td>\n",
       "</tr>\n",
       "<tr>\n",
       "  <th>ar.L1</th>     <td>   -0.4947</td> <td>    0.183</td> <td>   -2.706</td> <td> 0.007</td> <td>   -0.853</td> <td>   -0.136</td>\n",
       "</tr>\n",
       "<tr>\n",
       "  <th>sigma2</th>    <td>    1.0492</td> <td>    0.270</td> <td>    3.890</td> <td> 0.000</td> <td>    0.521</td> <td>    1.578</td>\n",
       "</tr>\n",
       "</table>\n",
       "<table class=\"simpletable\">\n",
       "<tr>\n",
       "  <th>Ljung-Box (Q):</th>           <td>nan</td> <th>  Jarque-Bera (JB):  </th> <td>2.72</td>\n",
       "</tr>\n",
       "<tr>\n",
       "  <th>Prob(Q):</th>                 <td>nan</td> <th>  Prob(JB):          </th> <td>0.26</td>\n",
       "</tr>\n",
       "<tr>\n",
       "  <th>Heteroskedasticity (H):</th> <td>0.98</td> <th>  Skew:              </th> <td>0.68</td>\n",
       "</tr>\n",
       "<tr>\n",
       "  <th>Prob(H) (two-sided):</th>    <td>0.97</td> <th>  Kurtosis:          </th> <td>3.21</td>\n",
       "</tr>\n",
       "</table><br/><br/>Warnings:<br/>[1] Covariance matrix calculated using the outer product of gradients (complex-step)."
      ],
      "text/plain": [
       "<class 'statsmodels.iolib.summary.Summary'>\n",
       "\"\"\"\n",
       "                                 Statespace Model Results                                 \n",
       "==========================================================================================\n",
       "Dep. Variable:                                  y   No. Observations:                   48\n",
       "Model:             SARIMAX(1, 1, 0)x(0, 1, 0, 12)   Log Likelihood                 -50.644\n",
       "Date:                            Sat, 24 Aug 2019   AIC                            107.289\n",
       "Time:                                    12:52:03   BIC                            111.955\n",
       "Sample:                                         0   HQIC                           108.899\n",
       "                                             - 48                                         \n",
       "Covariance Type:                              opg                                         \n",
       "==============================================================================\n",
       "                 coef    std err          z      P>|z|      [0.025      0.975]\n",
       "------------------------------------------------------------------------------\n",
       "intercept     -0.1200      0.196     -0.611      0.541      -0.505       0.265\n",
       "ar.L1         -0.4947      0.183     -2.706      0.007      -0.853      -0.136\n",
       "sigma2         1.0492      0.270      3.890      0.000       0.521       1.578\n",
       "===================================================================================\n",
       "Ljung-Box (Q):                         nan   Jarque-Bera (JB):                 2.72\n",
       "Prob(Q):                               nan   Prob(JB):                         0.26\n",
       "Heteroskedasticity (H):               0.98   Skew:                             0.68\n",
       "Prob(H) (two-sided):                  0.97   Kurtosis:                         3.21\n",
       "===================================================================================\n",
       "\n",
       "Warnings:\n",
       "[1] Covariance matrix calculated using the outer product of gradients (complex-step).\n",
       "\"\"\""
      ]
     },
     "execution_count": 22,
     "metadata": {},
     "output_type": "execute_result"
    }
   ],
   "source": [
    "model.summary()"
   ]
  },
  {
   "cell_type": "code",
   "execution_count": 23,
   "metadata": {},
   "outputs": [
    {
     "name": "stdout",
     "output_type": "stream",
     "text": [
      "MAE: 1.179755\n",
      "MSE: 1.676644\n",
      "RMSE: 1.294853\n"
     ]
    }
   ],
   "source": [
    "from sklearn.metrics import mean_absolute_error\n",
    "from math import sqrt\n",
    "from sklearn.metrics import mean_squared_error\n",
    "expected =  valid\n",
    "predictions = forecast\n",
    "\n",
    "mae = mean_absolute_error(expected, predictions)\n",
    "print('MAE: %f' % mae)\n",
    "mse = mean_squared_error(expected, predictions)\n",
    "print('MSE: %f' % mse)\n",
    "rmse = sqrt(mse)\n",
    "print('RMSE: %f' % rmse)"
   ]
  },
  {
   "cell_type": "code",
   "execution_count": null,
   "metadata": {},
   "outputs": [],
   "source": []
  }
 ],
 "metadata": {
  "kernelspec": {
   "display_name": "Python 3",
   "language": "python",
   "name": "python3"
  },
  "language_info": {
   "codemirror_mode": {
    "name": "ipython",
    "version": 3
   },
   "file_extension": ".py",
   "mimetype": "text/x-python",
   "name": "python",
   "nbconvert_exporter": "python",
   "pygments_lexer": "ipython3",
   "version": "3.7.3"
  }
 },
 "nbformat": 4,
 "nbformat_minor": 2
}
