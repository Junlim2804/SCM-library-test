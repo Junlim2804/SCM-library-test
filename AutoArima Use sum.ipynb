{
 "cells": [
  {
   "cell_type": "code",
   "execution_count": 74,
   "metadata": {},
   "outputs": [],
   "source": [
    "import pandas as pd \n",
    "import matplotlib\n",
    "\n",
    "%matplotlib inline\n"
   ]
  },
  {
   "cell_type": "code",
   "execution_count": 75,
   "metadata": {},
   "outputs": [],
   "source": [
    "def parser(x):\n",
    "    return pd.datetime.strptime(x,'%Y-%m-%d')\n",
    " \n",
    "train_df = pd.read_csv('train.csv', header=0,usecols=['date','store','item','sales'])\n",
    "train_df = train_df[train_df['store']==1]\n",
    "train_df = train_df[train_df['item']==1]\n",
    "\n",
    "\n",
    "train_df.head()\n",
    "\n",
    "df=train_df.copy()"
   ]
  },
  {
   "cell_type": "code",
   "execution_count": 76,
   "metadata": {},
   "outputs": [],
   "source": [
    "df['date'].min(), df['date'].max()\n",
    "df['date'] = pd.to_datetime(df['date'])"
   ]
  },
  {
   "cell_type": "code",
   "execution_count": 77,
   "metadata": {},
   "outputs": [
    {
     "data": {
      "text/html": [
       "<div>\n",
       "<style scoped>\n",
       "    .dataframe tbody tr th:only-of-type {\n",
       "        vertical-align: middle;\n",
       "    }\n",
       "\n",
       "    .dataframe tbody tr th {\n",
       "        vertical-align: top;\n",
       "    }\n",
       "\n",
       "    .dataframe thead th {\n",
       "        text-align: right;\n",
       "    }\n",
       "</style>\n",
       "<table border=\"1\" class=\"dataframe\">\n",
       "  <thead>\n",
       "    <tr style=\"text-align: right;\">\n",
       "      <th></th>\n",
       "      <th>date</th>\n",
       "      <th>sales</th>\n",
       "    </tr>\n",
       "  </thead>\n",
       "  <tbody>\n",
       "    <tr>\n",
       "      <th>0</th>\n",
       "      <td>2013-01-01</td>\n",
       "      <td>13</td>\n",
       "    </tr>\n",
       "    <tr>\n",
       "      <th>1</th>\n",
       "      <td>2013-01-02</td>\n",
       "      <td>11</td>\n",
       "    </tr>\n",
       "    <tr>\n",
       "      <th>2</th>\n",
       "      <td>2013-01-03</td>\n",
       "      <td>14</td>\n",
       "    </tr>\n",
       "    <tr>\n",
       "      <th>3</th>\n",
       "      <td>2013-01-04</td>\n",
       "      <td>13</td>\n",
       "    </tr>\n",
       "    <tr>\n",
       "      <th>4</th>\n",
       "      <td>2013-01-05</td>\n",
       "      <td>10</td>\n",
       "    </tr>\n",
       "  </tbody>\n",
       "</table>\n",
       "</div>"
      ],
      "text/plain": [
       "        date  sales\n",
       "0 2013-01-01     13\n",
       "1 2013-01-02     11\n",
       "2 2013-01-03     14\n",
       "3 2013-01-04     13\n",
       "4 2013-01-05     10"
      ]
     },
     "execution_count": 77,
     "metadata": {},
     "output_type": "execute_result"
    }
   ],
   "source": [
    "df = df.groupby('date')['sales'].sum().reset_index()\n",
    "df.head()"
   ]
  },
  {
   "cell_type": "code",
   "execution_count": 78,
   "metadata": {},
   "outputs": [],
   "source": [
    "df=df.set_index('date')\n",
    "y=df"
   ]
  },
  {
   "cell_type": "code",
   "execution_count": 97,
   "metadata": {},
   "outputs": [],
   "source": [
    "y = df['sales'].resample('MS').sum()"
   ]
  },
  {
   "cell_type": "code",
   "execution_count": 98,
   "metadata": {},
   "outputs": [
    {
     "data": {
      "text/plain": [
       "date\n",
       "2013-01-01    328\n",
       "2013-02-01    322\n",
       "2013-03-01    477\n",
       "2013-04-01    522\n",
       "2013-05-01    531\n",
       "2013-06-01    627\n",
       "2013-07-01    661\n",
       "2013-08-01    594\n",
       "2013-09-01    519\n",
       "2013-10-01    484\n",
       "2013-11-01    572\n",
       "2013-12-01    388\n",
       "2014-01-01    435\n",
       "2014-02-01    405\n",
       "2014-03-01    549\n",
       "2014-04-01    573\n",
       "2014-05-01    651\n",
       "2014-06-01    710\n",
       "2014-07-01    746\n",
       "2014-08-01    671\n",
       "2014-09-01    566\n",
       "2014-10-01    555\n",
       "2014-11-01    619\n",
       "2014-12-01    409\n",
       "2015-01-01    428\n",
       "2015-02-01    399\n",
       "2015-03-01    552\n",
       "2015-04-01    652\n",
       "2015-05-01    711\n",
       "2015-06-01    748\n",
       "2015-07-01    842\n",
       "2015-08-01    706\n",
       "2015-09-01    678\n",
       "2015-10-01    647\n",
       "2015-11-01    684\n",
       "2015-12-01    460\n",
       "2016-01-01    449\n",
       "2016-02-01    450\n",
       "2016-03-01    589\n",
       "2016-04-01    694\n",
       "2016-05-01    782\n",
       "2016-06-01    790\n",
       "2016-07-01    903\n",
       "2016-08-01    727\n",
       "2016-09-01    709\n",
       "2016-10-01    699\n",
       "2016-11-01    662\n",
       "2016-12-01    496\n",
       "2017-01-01    485\n",
       "2017-02-01    487\n",
       "2017-03-01    561\n",
       "2017-04-01    677\n",
       "2017-05-01    773\n",
       "2017-06-01    850\n",
       "2017-07-01    873\n",
       "2017-08-01    794\n",
       "2017-09-01    736\n",
       "2017-10-01    660\n",
       "2017-11-01    668\n",
       "2017-12-01    533\n",
       "Freq: MS, Name: sales, dtype: int64"
      ]
     },
     "execution_count": 98,
     "metadata": {},
     "output_type": "execute_result"
    }
   ],
   "source": [
    "y"
   ]
  },
  {
   "cell_type": "code",
   "execution_count": 99,
   "metadata": {},
   "outputs": [],
   "source": [
    "train=y[0:-12]\n",
    "valid=y[-12:]"
   ]
  },
  {
   "cell_type": "code",
   "execution_count": 100,
   "metadata": {
    "scrolled": true
   },
   "outputs": [
    {
     "name": "stdout",
     "output_type": "stream",
     "text": [
      "Fit ARIMA: order=(3, 1, 3) seasonal_order=(1, 1, 5, 12); AIC=nan, BIC=nan, Fit time=nan seconds\n",
      "Fit ARIMA: order=(0, 1, 0) seasonal_order=(0, 1, 0, 12); AIC=355.259, BIC=358.370, Fit time=0.015 seconds\n",
      "Fit ARIMA: order=(1, 1, 0) seasonal_order=(1, 1, 0, 12); AIC=348.247, BIC=354.469, Fit time=0.312 seconds\n",
      "Fit ARIMA: order=(0, 1, 1) seasonal_order=(0, 1, 1, 12); AIC=nan, BIC=nan, Fit time=nan seconds\n",
      "Fit ARIMA: order=(1, 1, 0) seasonal_order=(0, 1, 0, 12); AIC=346.789, BIC=351.455, Fit time=0.109 seconds\n",
      "Fit ARIMA: order=(1, 1, 0) seasonal_order=(0, 1, 1, 12); AIC=nan, BIC=nan, Fit time=nan seconds\n",
      "Fit ARIMA: order=(1, 1, 0) seasonal_order=(1, 1, 1, 12); AIC=nan, BIC=nan, Fit time=nan seconds\n",
      "Fit ARIMA: order=(2, 1, 0) seasonal_order=(0, 1, 0, 12); AIC=348.035, BIC=354.257, Fit time=0.160 seconds\n",
      "Fit ARIMA: order=(1, 1, 1) seasonal_order=(0, 1, 0, 12); AIC=348.099, BIC=354.320, Fit time=0.108 seconds\n",
      "Fit ARIMA: order=(2, 1, 1) seasonal_order=(0, 1, 0, 12); AIC=346.138, BIC=353.915, Fit time=0.176 seconds\n",
      "Fit ARIMA: order=(2, 1, 1) seasonal_order=(1, 1, 0, 12); AIC=347.509, BIC=356.841, Fit time=0.593 seconds\n",
      "Fit ARIMA: order=(2, 1, 1) seasonal_order=(0, 1, 1, 12); AIC=nan, BIC=nan, Fit time=nan seconds\n",
      "Fit ARIMA: order=(2, 1, 1) seasonal_order=(1, 1, 1, 12); AIC=nan, BIC=nan, Fit time=nan seconds\n",
      "Fit ARIMA: order=(3, 1, 1) seasonal_order=(0, 1, 0, 12); AIC=347.642, BIC=356.974, Fit time=0.411 seconds\n",
      "Fit ARIMA: order=(2, 1, 2) seasonal_order=(0, 1, 0, 12); AIC=347.282, BIC=356.614, Fit time=0.371 seconds\n",
      "Fit ARIMA: order=(3, 1, 2) seasonal_order=(0, 1, 0, 12); AIC=349.281, BIC=360.169, Fit time=0.540 seconds\n",
      "Total fit time: 2.827 seconds\n"
     ]
    }
   ],
   "source": [
    "from pmdarima.arima import auto_arima\n",
    "import matplotlib.pyplot as plt\n",
    "\n",
    "model = auto_arima(train, trace=True, start_p=3, start_q=3, start_P=1, start_Q=5,\n",
    "                     max_p=7, max_q=7, max_P=7, max_order=20,max_Q=6,D=1,d=1, m=12,seasonal=True,\n",
    "                     stepwise=True, error_action='ignore', suppress_warnings=True)\n",
    "model.fit(train)\n",
    "\n",
    "forecast = model.predict(n_periods=12)\n",
    "forecast = pd.DataFrame(forecast,index = valid.index,columns=['Prediction'])\n",
    "\n",
    "#plot the predictions for validation set\n"
   ]
  },
  {
   "cell_type": "code",
   "execution_count": 101,
   "metadata": {},
   "outputs": [
    {
     "data": {
      "image/png": "[encoded data removed]",
      "text/plain": [
       "<Figure size 432x288 with 1 Axes>"
      ]
     },
     "metadata": {
      "needs_background": "light"
     },
     "output_type": "display_data"
    }
   ],
   "source": [
    "plt.plot(valid, label='Valid')\n",
    "plt.plot(forecast, label='Prediction')\n",
    "plt.show()"
   ]
  },
  {
   "cell_type": "code",
   "execution_count": 102,
   "metadata": {},
   "outputs": [
    {
     "data": {
      "text/html": [
       "<table class=\"simpletable\">\n",
       "<caption>Statespace Model Results</caption>\n",
       "<tr>\n",
       "  <th>Dep. Variable:</th>                  <td>y</td>               <th>  No. Observations:  </th>    <td>48</td>   \n",
       "</tr>\n",
       "<tr>\n",
       "  <th>Model:</th>           <td>SARIMAX(2, 1, 1)x(0, 1, 0, 12)</td> <th>  Log Likelihood     </th> <td>-168.069</td>\n",
       "</tr>\n",
       "<tr>\n",
       "  <th>Date:</th>                   <td>Sat, 24 Aug 2019</td>        <th>  AIC                </th>  <td>346.138</td>\n",
       "</tr>\n",
       "<tr>\n",
       "  <th>Time:</th>                       <td>12:47:16</td>            <th>  BIC                </th>  <td>353.915</td>\n",
       "</tr>\n",
       "<tr>\n",
       "  <th>Sample:</th>                         <td>0</td>               <th>  HQIC               </th>  <td>348.822</td>\n",
       "</tr>\n",
       "<tr>\n",
       "  <th></th>                              <td> - 48</td>             <th>                     </th>     <td> </td>   \n",
       "</tr>\n",
       "<tr>\n",
       "  <th>Covariance Type:</th>               <td>opg</td>              <th>                     </th>     <td> </td>   \n",
       "</tr>\n",
       "</table>\n",
       "<table class=\"simpletable\">\n",
       "<tr>\n",
       "      <td></td>         <th>coef</th>     <th>std err</th>      <th>z</th>      <th>P>|z|</th>  <th>[0.025</th>    <th>0.975]</th>  \n",
       "</tr>\n",
       "<tr>\n",
       "  <th>intercept</th> <td>   -7.5115</td> <td>   11.752</td> <td>   -0.639</td> <td> 0.523</td> <td>  -30.546</td> <td>   15.522</td>\n",
       "</tr>\n",
       "<tr>\n",
       "  <th>ar.L1</th>     <td>   -1.3696</td> <td>    0.255</td> <td>   -5.381</td> <td> 0.000</td> <td>   -1.868</td> <td>   -0.871</td>\n",
       "</tr>\n",
       "<tr>\n",
       "  <th>ar.L2</th>     <td>   -0.6083</td> <td>    0.160</td> <td>   -3.805</td> <td> 0.000</td> <td>   -0.922</td> <td>   -0.295</td>\n",
       "</tr>\n",
       "<tr>\n",
       "  <th>ma.L1</th>     <td>    0.8717</td> <td>    0.224</td> <td>    3.897</td> <td> 0.000</td> <td>    0.433</td> <td>    1.310</td>\n",
       "</tr>\n",
       "<tr>\n",
       "  <th>sigma2</th>    <td>  843.0401</td> <td>  255.422</td> <td>    3.301</td> <td> 0.001</td> <td>  342.422</td> <td> 1343.659</td>\n",
       "</tr>\n",
       "</table>\n",
       "<table class=\"simpletable\">\n",
       "<tr>\n",
       "  <th>Ljung-Box (Q):</th>           <td>nan</td> <th>  Jarque-Bera (JB):  </th> <td>5.72</td>\n",
       "</tr>\n",
       "<tr>\n",
       "  <th>Prob(Q):</th>                 <td>nan</td> <th>  Prob(JB):          </th> <td>0.06</td>\n",
       "</tr>\n",
       "<tr>\n",
       "  <th>Heteroskedasticity (H):</th> <td>0.65</td> <th>  Skew:              </th> <td>0.87</td>\n",
       "</tr>\n",
       "<tr>\n",
       "  <th>Prob(H) (two-sided):</th>    <td>0.47</td> <th>  Kurtosis:          </th> <td>3.94</td>\n",
       "</tr>\n",
       "</table><br/><br/>Warnings:<br/>[1] Covariance matrix calculated using the outer product of gradients (complex-step)."
      ],
      "text/plain": [
       "<class 'statsmodels.iolib.summary.Summary'>\n",
       "\"\"\"\n",
       "                                 Statespace Model Results                                 \n",
       "==========================================================================================\n",
       "Dep. Variable:                                  y   No. Observations:                   48\n",
       "Model:             SARIMAX(2, 1, 1)x(0, 1, 0, 12)   Log Likelihood                -168.069\n",
       "Date:                            Sat, 24 Aug 2019   AIC                            346.138\n",
       "Time:                                    12:47:16   BIC                            353.915\n",
       "Sample:                                         0   HQIC                           348.822\n",
       "                                             - 48                                         \n",
       "Covariance Type:                              opg                                         \n",
       "==============================================================================\n",
       "                 coef    std err          z      P>|z|      [0.025      0.975]\n",
       "------------------------------------------------------------------------------\n",
       "intercept     -7.5115     11.752     -0.639      0.523     -30.546      15.522\n",
       "ar.L1         -1.3696      0.255     -5.381      0.000      -1.868      -0.871\n",
       "ar.L2         -0.6083      0.160     -3.805      0.000      -0.922      -0.295\n",
       "ma.L1          0.8717      0.224      3.897      0.000       0.433       1.310\n",
       "sigma2       843.0401    255.422      3.301      0.001     342.422    1343.659\n",
       "===================================================================================\n",
       "Ljung-Box (Q):                         nan   Jarque-Bera (JB):                 5.72\n",
       "Prob(Q):                               nan   Prob(JB):                         0.06\n",
       "Heteroskedasticity (H):               0.65   Skew:                             0.87\n",
       "Prob(H) (two-sided):                  0.47   Kurtosis:                         3.94\n",
       "===================================================================================\n",
       "\n",
       "Warnings:\n",
       "[1] Covariance matrix calculated using the outer product of gradients (complex-step).\n",
       "\"\"\""
      ]
     },
     "execution_count": 102,
     "metadata": {},
     "output_type": "execute_result"
    }
   ],
   "source": [
    "model.summary()"
   ]
  },
  {
   "cell_type": "code",
   "execution_count": 103,
   "metadata": {},
   "outputs": [
    {
     "name": "stdout",
     "output_type": "stream",
     "text": [
      "MAE: 37.157225\n",
      "MSE: 1695.404586\n",
      "RMSE: 41.175291\n"
     ]
    }
   ],
   "source": [
    "from sklearn.metrics import mean_absolute_error\n",
    "from math import sqrt\n",
    "from sklearn.metrics import mean_squared_error\n",
    "expected =  valid\n",
    "predictions = forecast\n",
    "\n",
    "mae = mean_absolute_error(expected, predictions)\n",
    "print('MAE: %f' % mae)\n",
    "mse = mean_squared_error(expected, predictions)\n",
    "print('MSE: %f' % mse)\n",
    "rmse = sqrt(mse)\n",
    "print('RMSE: %f' % rmse)"
   ]
  },
  {
   "cell_type": "code",
   "execution_count": null,
   "metadata": {},
   "outputs": [],
   "source": []
  }
 ],
 "metadata": {
  "kernelspec": {
   "display_name": "Python 3",
   "language": "python",
   "name": "python3"
  },
  "language_info": {
   "codemirror_mode": {
    "name": "ipython",
    "version": 3
   },
   "file_extension": ".py",
   "mimetype": "text/x-python",
   "name": "python",
   "nbconvert_exporter": "python",
   "pygments_lexer": "ipython3",
   "version": "3.7.3"
  }
 },
 "nbformat": 4,
 "nbformat_minor": 2
}
