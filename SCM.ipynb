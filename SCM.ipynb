{
 "cells": [
  {
   "cell_type": "code",
   "execution_count": 34,
   "metadata": {},
   "outputs": [],
   "source": [
    "%matplotlib inline\n",
    "\n",
    "import matplotlib\n",
    "import pandas as pd\n",
    "\n",
    "from supplychainpy.model_inventory import analyse\n",
    "from supplychainpy.model_demand import *\n",
    "from supplychainpy.sample_data.config import ABS_FILE_PATH\n",
    "from decimal import Decimal\n",
    "raw_df =pd.read_csv(ABS_FILE_PATH['COMPLETE_CSV_XSM'])"
   ]
  },
  {
   "cell_type": "code",
   "execution_count": 35,
   "metadata": {},
   "outputs": [
    {
     "name": "stdout",
     "output_type": "stream",
     "text": [
      "         sku excess_stock shortages ABC_XYZ_Classification\n",
      "0  KR202-209            0      5979                     AY\n",
      "1  KR202-210            0         0                     BY\n",
      "2  KR202-211            0      7109                     CY\n",
      "3  KR202-212            0      7769                     CY\n",
      "4  KR202-213            0         0                     CY\n",
      "5  KR202-214            0      5834                     BY\n",
      "6  KR202-215          732         0                     AY\n",
      "7  KR202-216            0      7009                     AY\n",
      "8  KR202-217            0      7255                     AY\n"
     ]
    }
   ],
   "source": [
    "analyse_kv =dict(\n",
    "    df=raw_df, \n",
    "    start=1, \n",
    "    interval_length=12, \n",
    "    interval_type='months',\n",
    "    z_value=Decimal(1.28), \n",
    "    reorder_cost=Decimal(400), \n",
    "    retail_price=Decimal(455), \n",
    "    file_type='csv',\n",
    "    currency='USD'\n",
    ")\n",
    "analysis_df = analyse( **analyse_kv)\n",
    "print(analysis_df[['sku', 'excess_stock', 'shortages', 'ABC_XYZ_Classification']])"
   ]
  },
  {
   "cell_type": "code",
   "execution_count": 36,
   "metadata": {},
   "outputs": [
    {
     "name": "stdout",
     "output_type": "stream",
     "text": [
      "         sku    revenue\n",
      "8  KR202-217  108480711\n",
      "0  KR202-209  123190000\n",
      "2  KR202-211   19688400\n",
      "3  KR202-212     207330\n",
      "4  KR202-213   24976000\n",
      "1  KR202-210   25524200\n",
      "5  KR202-214   34434000\n",
      "6  KR202-215   39747500\n",
      "7  KR202-216   53917641\n"
     ]
    }
   ],
   "source": [
    "analysis_rev = analysis_df[['sku', 'revenue']]\n",
    "print(analysis_rev.sort_values(by='revenue', ascending=True))"
   ]
  },
  {
   "cell_type": "code",
   "execution_count": 37,
   "metadata": {},
   "outputs": [
    {
     "name": "stdout",
     "output_type": "stream",
     "text": [
      "jan     104\n",
      "feb    2262\n",
      "mar     350\n",
      "apr     528\n",
      "may    2570\n",
      "jun    1216\n",
      "jul    1101\n",
      "aug    2755\n",
      "sep    2856\n",
      "oct    2381\n",
      "nov    1867\n",
      "Name: 3, dtype: object\n"
     ]
    }
   ],
   "source": [
    "row_ds = raw_df[raw_df['Sku']=='KR202-212'].squeeze()\n",
    "print(row_ds[1:12])"
   ]
  },
  {
   "cell_type": "code",
   "execution_count": 109,
   "metadata": {},
   "outputs": [
    {
     "name": "stdout",
     "output_type": "stream",
     "text": [
      "{'forecast_breakdown': [{'alpha': 0.5, 't': 1, 'demand': 104, 'level_estimates': 869.7272727272727, 'one_step_forecast': 1635.4545454545455, 'forecast_error': -1531.4545454545455, 'squared_error': 2345353.024793389}, {'alpha': 0.5, 't': 2, 'demand': 2262, 'level_estimates': 1565.8636363636365, 'one_step_forecast': 869.7272727272727, 'forecast_error': 1392.2727272727273, 'squared_error': 1938423.347107438}, {'alpha': 0.5, 't': 3, 'demand': 350, 'level_estimates': 957.9318181818182, 'one_step_forecast': 1565.8636363636365, 'forecast_error': -1215.8636363636365, 'squared_error': 1478324.3822314052}, {'alpha': 0.5, 't': 4, 'demand': 528, 'level_estimates': 742.9659090909091, 'one_step_forecast': 957.9318181818182, 'forecast_error': -429.93181818181824, 'squared_error': 184841.36828512402}, {'alpha': 0.5, 't': 5, 'demand': 2570, 'level_estimates': 1656.4829545454545, 'one_step_forecast': 742.9659090909091, 'forecast_error': 1827.034090909091, 'squared_error': 3338053.5693440083}, {'alpha': 0.5, 't': 6, 'demand': 1216, 'level_estimates': 1436.2414772727273, 'one_step_forecast': 1656.4829545454545, 'forecast_error': -440.4829545454545, 'squared_error': 194025.23324509294}, {'alpha': 0.5, 't': 7, 'demand': 1101, 'level_estimates': 1268.6207386363635, 'one_step_forecast': 1436.2414772727273, 'forecast_error': -335.24147727272725, 'squared_error': 112386.8480840005}, {'alpha': 0.5, 't': 8, 'demand': 2755, 'level_estimates': 2011.8103693181818, 'one_step_forecast': 1268.6207386363635, 'forecast_error': 1486.3792613636365, 'squared_error': 2209323.3086119094}, {'alpha': 0.5, 't': 9, 'demand': 2856, 'level_estimates': 2433.905184659091, 'one_step_forecast': 2011.8103693181818, 'forecast_error': 844.1896306818182, 'squared_error': 712656.1325507046}, {'alpha': 0.5, 't': 10, 'demand': 2381, 'level_estimates': 2407.4525923295455, 'one_step_forecast': 2433.905184659091, 'forecast_error': -52.90518465909099, 'squared_error': 2798.958563812517}, {'alpha': 0.5, 't': 11, 'demand': 1867, 'level_estimates': 2137.226296164773, 'one_step_forecast': 2407.4525923295455, 'forecast_error': -540.4525923295455, 'squared_error': 292089.0045557259}], 'mape': 100.69830747447692, 'statistics': {'slope': 224.4909090909091, 'pvalue': 0.004785251583224274, 'test_statistic': 3.8634855288615153, 'slope_standard_error': 58.105797838218294, 'intercept': 377.5999999999999, 'std_residuals': 4793.7283216530095, 'trend': True}, 'forecast': [2137.226296164773, 2137.226296164773, 2137.226296164773, 2137.226296164773, 2137.226296164773], 'alpha': 0.5, 'regression': [377.5999999999999, 602.090909090909, 826.5818181818181, 1051.0727272727272, 1275.5636363636363, 1500.0545454545454, 1724.5454545454545, 1949.0363636363636, 2173.5272727272727, 2398.018181818182, 2622.509090909091, 2847.0]}\n"
     ]
    }
   ],
   "source": [
    "ses_df = simple_exponential_smoothing_forecast(ds=row_ds[1:12], length=12, smoothing_level_constant=0.5)\n",
    "print(ses_df)\n"
   ]
  },
  {
   "cell_type": "code",
   "execution_count": 39,
   "metadata": {},
   "outputs": [
    {
     "name": "stdout",
     "output_type": "stream",
     "text": [
      "    alpha  demand  forecast_error  level_estimates  one_step_forecast  \\\n",
      "0     0.5     104    -1531.454545       869.727273        1635.454545   \n",
      "1     0.5    2262     1392.272727      1565.863636         869.727273   \n",
      "2     0.5     350    -1215.863636       957.931818        1565.863636   \n",
      "3     0.5     528     -429.931818       742.965909         957.931818   \n",
      "4     0.5    2570     1827.034091      1656.482955         742.965909   \n",
      "5     0.5    1216     -440.482955      1436.241477        1656.482955   \n",
      "6     0.5    1101     -335.241477      1268.620739        1436.241477   \n",
      "7     0.5    2755     1486.379261      2011.810369        1268.620739   \n",
      "8     0.5    2856      844.189631      2433.905185        2011.810369   \n",
      "9     0.5    2381      -52.905185      2407.452592        2433.905185   \n",
      "10    0.5    1867     -540.452592      2137.226296        2407.452592   \n",
      "\n",
      "    squared_error   t  \n",
      "0    2.345353e+06   1  \n",
      "1    1.938423e+06   2  \n",
      "2    1.478324e+06   3  \n",
      "3    1.848414e+05   4  \n",
      "4    3.338054e+06   5  \n",
      "5    1.940252e+05   6  \n",
      "6    1.123868e+05   7  \n",
      "7    2.209323e+06   8  \n",
      "8    7.126561e+05   9  \n",
      "9    2.798959e+03  10  \n",
      "10   2.920890e+05  11  \n"
     ]
    }
   ],
   "source": [
    "forecast_breakdown_df = pd.DataFrame(ses_df.get('forecast_breakdown', 'UNKNOWN'))\n",
    "print(forecast_breakdown_df)"
   ]
  },
  {
   "cell_type": "code",
   "execution_count": 40,
   "metadata": {},
   "outputs": [
    {
     "data": {
      "text/plain": [
       "<matplotlib.axes._subplots.AxesSubplot at 0x209b7c4d630>"
      ]
     },
     "execution_count": 40,
     "metadata": {},
     "output_type": "execute_result"
    },
    {
     "data": {
      "image/png": "[encoded data removed]",
      "text/plain": [
       "<Figure size 432x288 with 1 Axes>"
      ]
     },
     "metadata": {
      "needs_background": "light"
     },
     "output_type": "display_data"
    }
   ],
   "source": [
    "forecast_breakdown_df.plot(x='t', y=['one_step_forecast','demand'])"
   ]
  },
  {
   "cell_type": "code",
   "execution_count": 41,
   "metadata": {},
   "outputs": [
    {
     "name": "stdout",
     "output_type": "stream",
     "text": [
      "{'regression': [602.090909090909, 826.5818181818181, 1051.0727272727272, 1275.5636363636363, 1500.0545454545454, 1724.5454545454545, 1949.0363636363636, 2173.5272727272727, 2398.018181818182, 2622.509090909091, 2847.0]}\n"
     ]
    }
   ],
   "source": [
    "regression = {'regression': [(ses_df.get('statistics')['slope']* i ) + ses_df.get('statistics')['intercept'] for i in range(1,12)]}\n",
    "print(regression)"
   ]
  },
  {
   "cell_type": "code",
   "execution_count": 19,
   "metadata": {},
   "outputs": [
    {
     "name": "stdout",
     "output_type": "stream",
     "text": [
      "('1509', '1855', '2665', '1841', '1231', '2598', '1988', '1988', '2927', '2707', '731', '2598')\n"
     ]
    }
   ],
   "source": [
    "analyse_kv =dict(\n",
    "    file_path=ABS_FILE_PATH['COMPLETE_CSV_XSM'], \n",
    "    start=1, \n",
    "    interval_length=12, \n",
    "    interval_type='months',\n",
    "    z_value=Decimal(1.28), \n",
    "    reorder_cost=Decimal(400), \n",
    "    retail_price=Decimal(455), \n",
    "    file_type='csv',\n",
    "    currency='USD'\n",
    ")\n",
    "analysis = analyse(**analyse_kv)\n",
    "analysis_summary = [ i.orders_summary()for i in analysis]\n",
    "KR202_209_details = [demand for demand in analysis_summary if demand.get('sku')== 'KR202-209']\n",
    "print(KR202_209_details[0].get('orders').get('demand'))"
   ]
  },
  {
   "cell_type": "code",
   "execution_count": 32,
   "metadata": {},
   "outputs": [
    {
     "name": "stdout",
     "output_type": "stream",
     "text": [
      "    alpha  demand  forecast_error  level_estimates  one_step_forecast  \\\n",
      "0     0.5    1509     -544.166667      1781.083333        2053.166667   \n",
      "1     0.5    1855       73.916667      1818.041667        1781.083333   \n",
      "2     0.5    2665      846.958333      2241.520833        1818.041667   \n",
      "3     0.5    1841     -400.520833      2041.260417        2241.520833   \n",
      "4     0.5    1231     -810.260417      1636.130208        2041.260417   \n",
      "5     0.5    2598      961.869792      2117.065104        1636.130208   \n",
      "6     0.5    1988     -129.065104      2052.532552        2117.065104   \n",
      "7     0.5    1988      -64.532552      2020.266276        2052.532552   \n",
      "8     0.5    2927      906.733724      2473.633138        2020.266276   \n",
      "9     0.5    2707      233.366862      2590.316569        2473.633138   \n",
      "10    0.5     731    -1859.316569      1660.658285        2590.316569   \n",
      "11    0.5    2598      937.341715      2129.329142        1660.658285   \n",
      "\n",
      "    squared_error   t  \n",
      "0    2.961174e+05   1  \n",
      "1    5.463674e+03   2  \n",
      "2    7.173384e+05   3  \n",
      "3    1.604169e+05   4  \n",
      "4    6.565219e+05   5  \n",
      "5    9.251935e+05   6  \n",
      "6    1.665780e+04   7  \n",
      "7    4.164450e+03   8  \n",
      "8    8.221660e+05   9  \n",
      "9    5.446009e+04  10  \n",
      "10   3.457058e+06  11  \n",
      "11   8.786095e+05  12  \n"
     ]
    }
   ],
   "source": [
    "ses_df = simple_exponential_smoothing_forecast(demand=KR202_209_details[0].get('orders').get('demand'), length=12, smoothing_level_constant=0.5)\n",
    "#print(ses_df)\n",
    "forecast_breakdown_df = pd.DataFrame(ses_df.get('forecast_breakdown', 'UNKNOWN'))\n",
    "print(forecast_breakdown_df)\n",
    "\n"
   ]
  },
  {
   "cell_type": "code",
   "execution_count": 21,
   "metadata": {},
   "outputs": [
    {
     "data": {
      "image/png": "[encoded data removed]",
      "text/plain": [
       "<Figure size 432x288 with 1 Axes>"
      ]
     },
     "metadata": {
      "needs_background": "light"
     },
     "output_type": "display_data"
    }
   ],
   "source": [
    "FF = ses_df.get('forecast')\n",
    "regression = ses_df.get('regression')\n",
    "demand = KR202_209_details[0].get('orders').get('demand')\n",
    "plt.plot(range(12), demand)\n",
    "plt.plot(range(12), regression)\n",
    "plt.show()"
   ]
  },
  {
   "cell_type": "code",
   "execution_count": 30,
   "metadata": {},
   "outputs": [
    {
     "data": {
      "text/html": [
       "<div>\n",
       "<style scoped>\n",
       "    .dataframe tbody tr th:only-of-type {\n",
       "        vertical-align: middle;\n",
       "    }\n",
       "\n",
       "    .dataframe tbody tr th {\n",
       "        vertical-align: top;\n",
       "    }\n",
       "\n",
       "    .dataframe thead th {\n",
       "        text-align: right;\n",
       "    }\n",
       "</style>\n",
       "<table border=\"1\" class=\"dataframe\">\n",
       "  <thead>\n",
       "    <tr style=\"text-align: right;\">\n",
       "      <th></th>\n",
       "      <th>average_orders</th>\n",
       "      <th>classification</th>\n",
       "      <th>excess_cost</th>\n",
       "      <th>excess_rank</th>\n",
       "      <th>excess_units</th>\n",
       "      <th>gross_profit_margin</th>\n",
       "      <th>inventory_traffic_light</th>\n",
       "      <th>inventory_turns</th>\n",
       "      <th>markup_percentage</th>\n",
       "      <th>max_order</th>\n",
       "      <th>...</th>\n",
       "      <th>revenue_rank</th>\n",
       "      <th>safety_stock_cost</th>\n",
       "      <th>safety_stock_rank</th>\n",
       "      <th>safety_stock_units</th>\n",
       "      <th>shortage_cost</th>\n",
       "      <th>shortage_rank</th>\n",
       "      <th>shortage_units</th>\n",
       "      <th>sku_id</th>\n",
       "      <th>unit_cost</th>\n",
       "      <th>unit_cost_rank</th>\n",
       "    </tr>\n",
       "  </thead>\n",
       "  <tbody>\n",
       "    <tr>\n",
       "      <th>0</th>\n",
       "      <td>2053</td>\n",
       "      <td>AY</td>\n",
       "      <td>0</td>\n",
       "      <td>2</td>\n",
       "      <td>0</td>\n",
       "      <td>3999</td>\n",
       "      <td>green</td>\n",
       "      <td>24.564307</td>\n",
       "      <td>3.9950050</td>\n",
       "      <td>2927</td>\n",
       "      <td>...</td>\n",
       "      <td>1</td>\n",
       "      <td>1166373.9</td>\n",
       "      <td>3</td>\n",
       "      <td>1165</td>\n",
       "      <td>5984979</td>\n",
       "      <td>1</td>\n",
       "      <td>5979</td>\n",
       "      <td>KR202-209</td>\n",
       "      <td>1001</td>\n",
       "      <td>1</td>\n",
       "    </tr>\n",
       "  </tbody>\n",
       "</table>\n",
       "<p>1 rows × 25 columns</p>\n",
       "</div>"
      ],
      "text/plain": [
       "  average_orders classification excess_cost excess_rank excess_units  \\\n",
       "0           2053             AY           0           2            0   \n",
       "\n",
       "  gross_profit_margin inventory_traffic_light inventory_turns  \\\n",
       "0                3999                   green       24.564307   \n",
       "\n",
       "  markup_percentage max_order  ... revenue_rank safety_stock_cost  \\\n",
       "0         3.9950050      2927  ...            1         1166373.9   \n",
       "\n",
       "  safety_stock_rank safety_stock_units shortage_cost shortage_rank  \\\n",
       "0                 3               1165       5984979             1   \n",
       "\n",
       "  shortage_units     sku_id unit_cost unit_cost_rank  \n",
       "0           5979  KR202-209      1001              1  \n",
       "\n",
       "[1 rows x 25 columns]"
      ]
     },
     "execution_count": 30,
     "metadata": {},
     "output_type": "execute_result"
    }
   ],
   "source": [
    "from supplychainpy.inventory.summarise import Inventory\n",
    "filtered_summary = Inventory(analysis)\n",
    "sku_summary = [summary for summary in filtered_summary.describe_sku('KR202-209')]\n",
    "#print(sku_summary)\n",
    "df = pd.DataFrame(data=sku_summary)\n",
    "df"
   ]
  }
 ],
 "metadata": {
  "kernelspec": {
   "display_name": "Python 3",
   "language": "python",
   "name": "python3"
  },
  "language_info": {
   "codemirror_mode": {
    "name": "ipython",
    "version": 3
   },
   "file_extension": ".py",
   "mimetype": "text/x-python",
   "name": "python",
   "nbconvert_exporter": "python",
   "pygments_lexer": "ipython3",
   "version": "3.7.3"
  }
 },
 "nbformat": 4,
 "nbformat_minor": 2
}
