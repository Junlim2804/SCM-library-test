{
 "cells": [
  {
   "cell_type": "code",
   "execution_count": 1,
   "metadata": {},
   "outputs": [],
   "source": [
    "import pyodbc\n",
    "import pandas as pd\n",
    "import random\n",
    "import matplotlib.pyplot as plt\n",
    "import numpy as np\n",
    "from pmdarima.arima import auto_arima\n",
    "from bokeh.plotting import figure\n",
    "from bokeh.embed import components\n",
    "from bokeh.models import HoverTool, FactorRange, Plot, LinearAxis, Grid,Range1d,DatetimeTickFormatter\n",
    "from bokeh.models.widgets import Panel,Tabs\n",
    "from bokeh.models.glyphs import VBar\n",
    "from bokeh.layouts import column\n",
    "from bokeh.plotting import figure\n",
    "from bokeh.embed import components\n",
    "from bokeh.models.sources import ColumnDataSource\n",
    "from bokeh.io import show\n"
   ]
  },
  {
   "cell_type": "code",
   "execution_count": 2,
   "metadata": {},
   "outputs": [],
   "source": [
    "server = '(localdb)\\MSSQLLocalDB'\n",
    "database = 'SCMdb'\n",
    "username = 'Guest'\n",
    "password = 'Guest'\n",
    "driver= '{ODBC Driver 17 for SQL Server}'\n",
    "con = pyodbc.connect(\"Driver=\"+driver+\";Server=\"+server+\";Database=\"+database+\";Uid=\"+username+\";Pwd=\"+password+\";TrustServerCertificate=no;Connection Timeout=30;\")\n",
    "\n"
   ]
  },
  {
   "cell_type": "code",
   "execution_count": 3,
   "metadata": {},
   "outputs": [],
   "source": [
    "SQL_Query = pd.read_sql_query(\"select * from show_sales where prod_id='pr1'\", con)\n",
    "df=pd.DataFrame(SQL_Query)\n",
    "df['date'] = pd.to_datetime(df['date'])\n",
    "df=df.drop(['prod_id'], axis=1)\n",
    "df=df.set_index('date')\n",
    "\n"
   ]
  },
  {
   "cell_type": "code",
   "execution_count": 4,
   "metadata": {
    "scrolled": true
   },
   "outputs": [
    {
     "data": {
      "text/html": [
       "<div>\n",
       "<style scoped>\n",
       "    .dataframe tbody tr th:only-of-type {\n",
       "        vertical-align: middle;\n",
       "    }\n",
       "\n",
       "    .dataframe tbody tr th {\n",
       "        vertical-align: top;\n",
       "    }\n",
       "\n",
       "    .dataframe thead th {\n",
       "        text-align: right;\n",
       "    }\n",
       "</style>\n",
       "<table border=\"1\" class=\"dataframe\">\n",
       "  <thead>\n",
       "    <tr style=\"text-align: right;\">\n",
       "      <th></th>\n",
       "      <th>Quantity</th>\n",
       "    </tr>\n",
       "    <tr>\n",
       "      <th>date</th>\n",
       "      <th></th>\n",
       "    </tr>\n",
       "  </thead>\n",
       "  <tbody>\n",
       "    <tr>\n",
       "      <th>2013-07-02</th>\n",
       "      <td>17</td>\n",
       "    </tr>\n",
       "    <tr>\n",
       "      <th>2013-07-06</th>\n",
       "      <td>16</td>\n",
       "    </tr>\n",
       "    <tr>\n",
       "      <th>2013-07-07</th>\n",
       "      <td>34</td>\n",
       "    </tr>\n",
       "    <tr>\n",
       "      <th>2013-07-13</th>\n",
       "      <td>22</td>\n",
       "    </tr>\n",
       "    <tr>\n",
       "      <th>2013-07-17</th>\n",
       "      <td>16</td>\n",
       "    </tr>\n",
       "  </tbody>\n",
       "</table>\n",
       "</div>"
      ],
      "text/plain": [
       "            Quantity\n",
       "date                \n",
       "2013-07-02        17\n",
       "2013-07-06        16\n",
       "2013-07-07        34\n",
       "2013-07-13        22\n",
       "2013-07-17        16"
      ]
     },
     "execution_count": 4,
     "metadata": {},
     "output_type": "execute_result"
    }
   ],
   "source": [
    "df.head()"
   ]
  },
  {
   "cell_type": "code",
   "execution_count": 5,
   "metadata": {
    "scrolled": false
   },
   "outputs": [
    {
     "data": {
      "text/plain": [
       "date\n",
       "2018-12-01     533\n",
       "2019-01-01    2328\n",
       "2019-02-01    2428\n",
       "2019-03-01    2800\n",
       "2019-04-01    2100\n",
       "2019-05-01    2100\n",
       "2019-06-01    2210\n",
       "2019-07-01    2320\n",
       "2019-08-01    2420\n",
       "2019-09-01    2526\n",
       "2019-10-01    2400\n",
       "2019-11-01    2800\n",
       "Freq: MS, Name: Quantity, dtype: int64"
      ]
     },
     "execution_count": 5,
     "metadata": {},
     "output_type": "execute_result"
    }
   ],
   "source": [
    "y=df\n",
    "y = df['Quantity'].resample('MS').sum()\n",
    "\n",
    "train=y[0:-2]\n",
    "valid=y[-12:]\n"
   ]
  },
  {
   "cell_type": "code",
   "execution_count": 197,
   "metadata": {
    "scrolled": false
   },
   "outputs": [
    {
     "name": "stdout",
     "output_type": "stream",
     "text": [
      "Fit ARIMA: order=(3, 1, 3) seasonal_order=(0, 0, 0, 1); AIC=1074.291, BIC=1093.042, Fit time=0.468 seconds\n",
      "Fit ARIMA: order=(0, 1, 0) seasonal_order=(0, 0, 0, 1); AIC=1074.382, BIC=1079.070, Fit time=0.012 seconds\n",
      "Fit ARIMA: order=(1, 1, 0) seasonal_order=(0, 0, 0, 1); AIC=1075.954, BIC=1082.986, Fit time=0.103 seconds\n",
      "Fit ARIMA: order=(0, 1, 1) seasonal_order=(0, 0, 0, 1); AIC=1076.031, BIC=1083.063, Fit time=0.096 seconds\n",
      "Fit ARIMA: order=(2, 1, 3) seasonal_order=(0, 0, 0, 1); AIC=1072.344, BIC=1088.750, Fit time=0.558 seconds\n",
      "Fit ARIMA: order=(2, 1, 2) seasonal_order=(0, 0, 0, 1); AIC=1074.215, BIC=1088.278, Fit time=0.605 seconds\n",
      "Fit ARIMA: order=(2, 1, 4) seasonal_order=(0, 0, 0, 1); AIC=nan, BIC=nan, Fit time=nan seconds\n",
      "Fit ARIMA: order=(1, 1, 2) seasonal_order=(0, 0, 0, 1); AIC=1074.246, BIC=1085.965, Fit time=0.361 seconds\n",
      "Fit ARIMA: order=(3, 1, 4) seasonal_order=(0, 0, 0, 1); AIC=nan, BIC=nan, Fit time=nan seconds\n",
      "Fit ARIMA: order=(1, 1, 3) seasonal_order=(0, 0, 0, 1); AIC=1070.357, BIC=1084.420, Fit time=0.478 seconds\n",
      "Fit ARIMA: order=(1, 1, 4) seasonal_order=(0, 0, 0, 1); AIC=1070.082, BIC=1086.489, Fit time=0.682 seconds\n",
      "Fit ARIMA: order=(0, 1, 3) seasonal_order=(0, 0, 0, 1); AIC=1068.367, BIC=1080.086, Fit time=0.215 seconds\n",
      "Fit ARIMA: order=(0, 1, 2) seasonal_order=(0, 0, 0, 1); AIC=1077.212, BIC=1086.587, Fit time=0.082 seconds\n",
      "Fit ARIMA: order=(0, 1, 4) seasonal_order=(0, 0, 0, 1); AIC=1070.358, BIC=1084.421, Fit time=0.286 seconds\n",
      "Total fit time: 3.961 seconds\n"
     ]
    }
   ],
   "source": [
    "\n",
    "model = auto_arima(y, trace=True, start_p=3, start_q=3, start_P=1, start_Q=5,\n",
    "                     max_p=7, max_q=7, max_P=7, max_order=20,max_Q=6,D=1,d=1, m=1,seasonal=True,\n",
    "                     stepwise=True, error_action='ignore', suppress_warnings=True)\n",
    "model.fit(y)\n",
    "forecast = model.predict(n_periods=4)\n"
   ]
  },
  {
   "cell_type": "code",
   "execution_count": 198,
   "metadata": {},
   "outputs": [],
   "source": [
    "date_index=y[-1:].index\n"
   ]
  },
  {
   "cell_type": "code",
   "execution_count": 199,
   "metadata": {},
   "outputs": [],
   "source": [
    "x_index=[]\n",
    "date_index=date_index+1\n",
    "for i in range(4):\n",
    "    x_index.append(str((date_index+i).date[0]))"
   ]
  },
  {
   "cell_type": "code",
   "execution_count": 200,
   "metadata": {},
   "outputs": [
    {
     "data": {
      "text/plain": [
       "['2019-12-01', '2020-01-01', '2020-02-01', '2020-03-01']"
      ]
     },
     "execution_count": 200,
     "metadata": {},
     "output_type": "execute_result"
    }
   ],
   "source": [
    "x_index"
   ]
  },
  {
   "cell_type": "code",
   "execution_count": 201,
   "metadata": {},
   "outputs": [
    {
     "data": {
      "text/plain": [
       "array([2760.58341911, 2896.05178695, 2778.23223667, 2811.49034756])"
      ]
     },
     "execution_count": 201,
     "metadata": {},
     "output_type": "execute_result"
    }
   ],
   "source": [
    "forecast"
   ]
  },
  {
   "cell_type": "code",
   "execution_count": 230,
   "metadata": {},
   "outputs": [],
   "source": [
    "forecast=forecast.round()\n",
    "forecast=forecast.astype(int)"
   ]
  },
  {
   "cell_type": "code",
   "execution_count": 231,
   "metadata": {},
   "outputs": [],
   "source": [
    "d = {'Date': x_index, 'Prediction': forecast}\n",
    "result = pd.DataFrame(data=d)\n",
    "#forecast = pd.DataFrame(forecast,index = x_index,columns=['Prediction'])\n",
    "#forecast.to_csv('forecast.csv')\n",
    "\n"
   ]
  },
  {
   "cell_type": "code",
   "execution_count": 232,
   "metadata": {},
   "outputs": [],
   "source": [
    "result.insert(loc=0, column='prod_id', value='pr1')"
   ]
  },
  {
   "cell_type": "code",
   "execution_count": 233,
   "metadata": {
    "scrolled": true
   },
   "outputs": [
    {
     "data": {
      "text/html": [
       "<div>\n",
       "<style scoped>\n",
       "    .dataframe tbody tr th:only-of-type {\n",
       "        vertical-align: middle;\n",
       "    }\n",
       "\n",
       "    .dataframe tbody tr th {\n",
       "        vertical-align: top;\n",
       "    }\n",
       "\n",
       "    .dataframe thead th {\n",
       "        text-align: right;\n",
       "    }\n",
       "</style>\n",
       "<table border=\"1\" class=\"dataframe\">\n",
       "  <thead>\n",
       "    <tr style=\"text-align: right;\">\n",
       "      <th></th>\n",
       "      <th>prod_id</th>\n",
       "      <th>Date</th>\n",
       "      <th>Prediction</th>\n",
       "    </tr>\n",
       "  </thead>\n",
       "  <tbody>\n",
       "    <tr>\n",
       "      <th>0</th>\n",
       "      <td>pr1</td>\n",
       "      <td>2019-12-01</td>\n",
       "      <td>2761</td>\n",
       "    </tr>\n",
       "    <tr>\n",
       "      <th>1</th>\n",
       "      <td>pr1</td>\n",
       "      <td>2020-01-01</td>\n",
       "      <td>2896</td>\n",
       "    </tr>\n",
       "    <tr>\n",
       "      <th>2</th>\n",
       "      <td>pr1</td>\n",
       "      <td>2020-02-01</td>\n",
       "      <td>2778</td>\n",
       "    </tr>\n",
       "    <tr>\n",
       "      <th>3</th>\n",
       "      <td>pr1</td>\n",
       "      <td>2020-03-01</td>\n",
       "      <td>2811</td>\n",
       "    </tr>\n",
       "  </tbody>\n",
       "</table>\n",
       "</div>"
      ],
      "text/plain": [
       "  prod_id        Date  Prediction\n",
       "0     pr1  2019-12-01        2761\n",
       "1     pr1  2020-01-01        2896\n",
       "2     pr1  2020-02-01        2778\n",
       "3     pr1  2020-03-01        2811"
      ]
     },
     "execution_count": 233,
     "metadata": {},
     "output_type": "execute_result"
    }
   ],
   "source": [
    "result"
   ]
  },
  {
   "cell_type": "code",
   "execution_count": 243,
   "metadata": {},
   "outputs": [],
   "source": [
    "cur = con.cursor()\n",
    "for index,row in result.iterrows():\n",
    "    cur.execute(\"exec prc_insertForecast @prod_id=?,@fdate=?,@no=?\",row['prod_id'],row['Date'],row[\"Prediction\"])\n",
    "cur.commit()\n",
    "cur.close()"
   ]
  },
  {
   "cell_type": "code",
   "execution_count": 170,
   "metadata": {},
   "outputs": [
    {
     "data": {
      "text/html": [
       "<div>\n",
       "<style scoped>\n",
       "    .dataframe tbody tr th:only-of-type {\n",
       "        vertical-align: middle;\n",
       "    }\n",
       "\n",
       "    .dataframe tbody tr th {\n",
       "        vertical-align: top;\n",
       "    }\n",
       "\n",
       "    .dataframe thead th {\n",
       "        text-align: right;\n",
       "    }\n",
       "</style>\n",
       "<table border=\"1\" class=\"dataframe\">\n",
       "  <thead>\n",
       "    <tr style=\"text-align: right;\">\n",
       "      <th></th>\n",
       "      <th>Prediction</th>\n",
       "    </tr>\n",
       "  </thead>\n",
       "  <tbody>\n",
       "    <tr>\n",
       "      <th>2019-12-01</th>\n",
       "      <td>2761.0</td>\n",
       "    </tr>\n",
       "    <tr>\n",
       "      <th>2020-01-01</th>\n",
       "      <td>2896.0</td>\n",
       "    </tr>\n",
       "    <tr>\n",
       "      <th>2020-02-01</th>\n",
       "      <td>2778.0</td>\n",
       "    </tr>\n",
       "    <tr>\n",
       "      <th>2020-03-01</th>\n",
       "      <td>2811.0</td>\n",
       "    </tr>\n",
       "  </tbody>\n",
       "</table>\n",
       "</div>"
      ],
      "text/plain": [
       "            Prediction\n",
       "2019-12-01      2761.0\n",
       "2020-01-01      2896.0\n",
       "2020-02-01      2778.0\n",
       "2020-03-01      2811.0"
      ]
     },
     "execution_count": 170,
     "metadata": {},
     "output_type": "execute_result"
    }
   ],
   "source": [
    "forecast.head()"
   ]
  },
  {
   "cell_type": "code",
   "execution_count": 171,
   "metadata": {},
   "outputs": [],
   "source": [
    "hover1 = HoverTool(tooltips=[(\"Sales\", \"@y\")])\n",
    "X = x_index\n",
    "Y = forecast['Prediction'].iloc[-4:].values\n",
    "\n",
    "p = figure(x_range=X, plot_height=400,x_axis_label='Month',x_minor_ticks=1,\n",
    "         title=\"Forecast Sales\",toolbar_location=None, tools=[hover1])\n",
    "#barchart.vbar(x=X, top=Y, width=0.2)\n",
    "p.line(y=Y,x=X,line_width=2)\n",
    "\n",
    "p.y_range.start =2000\n",
    "show(p)"
   ]
  },
  {
   "cell_type": "code",
   "execution_count": null,
   "metadata": {},
   "outputs": [],
   "source": []
  }
 ],
 "metadata": {
  "kernelspec": {
   "display_name": "Python 3",
   "language": "python",
   "name": "python3"
  },
  "language_info": {
   "codemirror_mode": {
    "name": "ipython",
    "version": 3
   },
   "file_extension": ".py",
   "mimetype": "text/x-python",
   "name": "python",
   "nbconvert_exporter": "python",
   "pygments_lexer": "ipython3",
   "version": "3.5.6"
  }
 },
 "nbformat": 4,
 "nbformat_minor": 2
}
